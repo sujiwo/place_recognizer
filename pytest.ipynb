{
 "cells": [
  {
   "cell_type": "code",
   "execution_count": null,
   "metadata": {},
   "outputs": [],
   "source": [
    "#!/usr/bin/python\n",
    "\n",
    "from RandomAccessBag import ImageBag\n",
    "import numpy as np\n",
    "from place_recognizer.srv import place_recognizer\n",
    "from cv_bridge import CvBridge, CvBridgeError\n",
    "import rospy\n",
    "import pickle\n",
    "\n",
    "bridge = CvBridge()\n",
    "\n",
    "def runPlaceRecognizerImg(imageArray):\n",
    "    msg = bridge.cv2_to_imgmsg(imageArray, \"bgr8\")\n",
    "    server = rospy.ServiceProxy('place_recognizer', place_recognizer)\n",
    "    placeResp = server(msg)\n",
    "    return placeResp.keyframeId\n",
    "\n",
    "queries=np.load('/media/sujiwo/PlaceRecognition/queries.npy')\n",
    "queryBag=ImageBag('/media/sujiwo/PlaceRecognition/ouster64-prep-4.bag', '/front_rgb/image_raw')\n",
    "\n",
    "queryResults = {}\n",
    "for q in queries:\n",
    "    image = queryBag[q]\n",
    "    qres = runPlaceRecognizerImg(image)\n",
    "    queryResults[q] = qres\n",
    "    print(\"--- Q {}: {}\".format(q, len(qres)))\n",
    "print(\"Queries done for {} images\".format(len(queries)))\n",
    "\n",
    "pickle.dump(queryResults, open(\"/media/sujiwo/PlaceRecognition/queryResults.pickle\", \"wb\"))\n"
   ]
  },
  {
   "cell_type": "code",
   "execution_count": null,
   "metadata": {},
   "outputs": [],
   "source": [
    "# Evaluation\n",
    "queryResults=pickle.load(open(\"/media/sujiwo/PlaceRecognition/queryResults.pickle\", \"rb\"))\n",
    "queryPos=np.loadtxt(\"/media/sujiwo/PlaceRecognition/ouster64-conv.image.csv\")\n",
    "trainPos=np.loadtxt('/media/sujiwo/PlaceRecognition/vls128-conv.image.csv')\n",
    "\n",
    "# Modify this\n",
    "acceptDistLimit = 20.0\n",
    "\n",
    "evalResults = {}\n",
    "for q in queryResults.keys():\n",
    "    qpos = queryPos[q, 1:4]\n",
    "    for ans in queryResults[q]:\n",
    "        evalResults[qpos]=\n",
    "        atpos = trainPos[ans, 1:4]\n",
    "        d = np.linalg.norm(atpos - qpos)\n",
    "        if (d < acceptDistLimit):\n",
    "            evalResults[qpos][ans]=1\n",
    "\n"
   ]
  }
 ],
 "metadata": {
  "kernelspec": {
   "display_name": "Python 2",
   "language": "python",
   "name": "python2"
  },
  "language_info": {
   "codemirror_mode": {
    "name": "ipython",
    "version": 2
   },
   "file_extension": ".py",
   "mimetype": "text/x-python",
   "name": "python",
   "nbconvert_exporter": "python",
   "pygments_lexer": "ipython2",
   "version": "2.7.17"
  }
 },
 "nbformat": 4,
 "nbformat_minor": 2
}
